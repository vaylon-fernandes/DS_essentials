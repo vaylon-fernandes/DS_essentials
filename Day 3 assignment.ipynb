{
 "cells": [
  {
   "cell_type": "code",
   "execution_count": 2,
   "metadata": {},
   "outputs": [],
   "source": [
    "import numpy as np"
   ]
  },
  {
   "cell_type": "code",
   "execution_count": null,
   "metadata": {},
   "outputs": [],
   "source": []
  },
  {
   "cell_type": "markdown",
   "metadata": {},
   "source": [
    "**Q1**:Create a numpy array starting from 2 till 50 with a stepsize of 3."
   ]
  },
  {
   "cell_type": "code",
   "execution_count": 6,
   "metadata": {},
   "outputs": [
    {
     "data": {
      "text/plain": [
       "array([ 2,  5,  8, 11, 14, 17, 20, 23, 26, 29, 32, 35, 38, 41, 44, 47, 50])"
      ]
     },
     "execution_count": 6,
     "metadata": {},
     "output_type": "execute_result"
    }
   ],
   "source": [
    "arr = np.arange(2, 51, 3)\n",
    "arr"
   ]
  },
  {
   "cell_type": "markdown",
   "metadata": {},
   "source": [
    "**Q2:** Accept two lists of 5 elements each from the user.\n",
    "Convert them to numpy arrays. Concatenate these arrays and print it. Also sort these arrays and print it."
   ]
  },
  {
   "cell_type": "code",
   "execution_count": 39,
   "metadata": {},
   "outputs": [
    {
     "name": "stdout",
     "output_type": "stream",
     "text": [
      "23\n",
      "57\n",
      "76\n",
      "89\n",
      "78\n",
      "21\n",
      "56\n",
      "87\n",
      "46\n",
      "12\n",
      "[23 57 76 89 78]\n",
      "[21 56 87 46 12]\n",
      "[23 57 76 89 78 21 56 87 46 12]\n"
     ]
    }
   ],
   "source": [
    "first_list = []\n",
    "second_list = []\n",
    "\n",
    "#using integer arrays\n",
    "# inputs for first list\n",
    "for _ in range(5):\n",
    "    first_list.append(int(input()))\n",
    "\n",
    "\n",
    "# inputs for second list\n",
    "for _ in range(5):\n",
    "    second_list.append(int(input()))\n",
    "\n",
    "#convering lists to numpy arrays\n",
    "arr_1 = np.array(first_list)\n",
    "arr_2 = np.array(second_list)\n",
    "\n",
    "#concatinating the two arrays\n",
    "concat = np.concatenate((arr_1,arr_2))\n",
    "\n",
    "print(arr_1)\n",
    "print(arr_2)\n",
    "print(concat)"
   ]
  },
  {
   "cell_type": "code",
   "execution_count": null,
   "metadata": {},
   "outputs": [],
   "source": []
  },
  {
   "cell_type": "markdown",
   "metadata": {},
   "source": [
    "**Q3**: Write a code snippet to find the dimensions of a ndarray and its size."
   ]
  },
  {
   "cell_type": "code",
   "execution_count": 35,
   "metadata": {},
   "outputs": [
    {
     "name": "stdout",
     "output_type": "stream",
     "text": [
      "2\n",
      "6\n"
     ]
    }
   ],
   "source": [
    "# create a numpy array \n",
    "arr = np.array(([1,2,3],[4,5,6])) \n",
    "\n",
    "# get dimensions \n",
    "dim = arr.ndim\n",
    "\n",
    "# get size - total number of elements\n",
    "size = arr.size\n",
    "\n",
    "print(dim)\n",
    "\n",
    "print(size)\n"
   ]
  },
  {
   "cell_type": "markdown",
   "metadata": {},
   "source": [
    "**Q4**: How to convert a 1D array into a 2D array? Demonstrate with the help of a code snippet"
   ]
  },
  {
   "cell_type": "code",
   "execution_count": 47,
   "metadata": {},
   "outputs": [
    {
     "name": "stdout",
     "output_type": "stream",
     "text": [
      "[[1 2 3 4 5 6]]\n",
      "\n",
      "[[1]\n",
      " [2]\n",
      " [3]\n",
      " [4]\n",
      " [5]\n",
      " [6]]\n",
      "\n",
      "[[1 2 3 4 5 6]]\n",
      "\n",
      "[[1]\n",
      " [2]\n",
      " [3]\n",
      " [4]\n",
      " [5]\n",
      " [6]]\n"
     ]
    }
   ],
   "source": [
    "import numpy as np \n",
    "\n",
    "# 1D array \n",
    "one_dim_arr = np.array([1, 2, 3, 4, 5, 6])\n",
    "\n",
    "# To convert to 2D array \n",
    "# we can use the np.newaxis to increase the dimesions in a array\n",
    "# Using np.newaxis will increase the dimensions of your array by one dimension when used once. \n",
    "\n",
    "two_dim_arr = one_dim_arr[np.newaxis, :]\n",
    "print(two_dim_arr)\n",
    "# inserting a axis at the first index creates a row vector\n",
    "\n",
    "print()\n",
    "\n",
    "# for column vector, insert axis at the second index\n",
    "two_dim_arr = one_dim_arr[:,np.newaxis]\n",
    "print(two_dim_arr)\n",
    "\n",
    "print()\n",
    "\n",
    "# we can also expand an array by inserting a new axis at a specified position with np.expand_dims.\n",
    "two_dim_arr = np.expand_dims(one_dim_arr,axis = 0)\n",
    "print(two_dim_arr)\n",
    "\n",
    "print()\n",
    "\n",
    "two_dim_arr = np.expand_dims(one_dim_arr,axis = 1)\n",
    "print(two_dim_arr)"
   ]
  },
  {
   "cell_type": "markdown",
   "metadata": {},
   "source": [
    "**Q5**:Consider two square numpy arrays. Stack them vertically and horizontally."
   ]
  },
  {
   "cell_type": "code",
   "execution_count": 52,
   "metadata": {},
   "outputs": [
    {
     "name": "stdout",
     "output_type": "stream",
     "text": [
      "[[1 2 3]\n",
      " [4 5 6]\n",
      " [1 1 1]\n",
      " [2 2 2]]\n",
      "\n",
      "[[1 2 3 1 1 1]\n",
      " [4 5 6 2 2 2]]\n"
     ]
    }
   ],
   "source": [
    "a_1 = np.array([[1,2,3],[4,5,6]]) \n",
    "a_2 = np.array([[1,1,1],[2,2,2]])\n",
    "\n",
    "# stack vertically \n",
    "vertical = np.vstack((a_1,a_2))\n",
    "print(vertical)\n",
    "\n",
    "print()\n",
    "\n",
    "# stack hozizontally \n",
    "horizontal = np.hstack((a_1,a_2))\n",
    "print(horizontal)"
   ]
  },
  {
   "cell_type": "markdown",
   "metadata": {},
   "source": [
    "**Q6**: How to get unique items and counts of unique items?"
   ]
  },
  {
   "cell_type": "code",
   "execution_count": 57,
   "metadata": {},
   "outputs": [
    {
     "name": "stdout",
     "output_type": "stream",
     "text": [
      "[1 2 4 5 6 7 8 9]\n",
      "[6 1 4 2 2 2 1 1]\n"
     ]
    }
   ],
   "source": [
    "import numpy as np \n",
    "\n",
    "arr = np.array([1,2,1,1,1,1,1,4,4,4,4,7,7,5,6,6,8,9,5])\n",
    "\n",
    "# to get unique items from the array\n",
    "# use np.unique()\n",
    "# pass return_counts argument to get the count of unique occurences\n",
    "\n",
    "unique_items,occurence_count = np.unique(arr, return_counts = True)\n",
    "\n",
    "print(unique_items)\n",
    "print(occurence_count)"
   ]
  },
  {
   "cell_type": "code",
   "execution_count": null,
   "metadata": {},
   "outputs": [],
   "source": []
  },
  {
   "cell_type": "code",
   "execution_count": null,
   "metadata": {},
   "outputs": [],
   "source": []
  }
 ],
 "metadata": {
  "kernelspec": {
   "display_name": "Python 3",
   "language": "python",
   "name": "python3"
  },
  "language_info": {
   "codemirror_mode": {
    "name": "ipython",
    "version": 3
   },
   "file_extension": ".py",
   "mimetype": "text/x-python",
   "name": "python",
   "nbconvert_exporter": "python",
   "pygments_lexer": "ipython3",
   "version": "3.8.3"
  }
 },
 "nbformat": 4,
 "nbformat_minor": 4
}
