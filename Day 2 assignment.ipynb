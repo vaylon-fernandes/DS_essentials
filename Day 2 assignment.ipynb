{
 "cells": [
  {
   "cell_type": "markdown",
   "metadata": {},
   "source": [
    "**Q1**: Create an empty list. Accept 10 numbers from the user and append to it the list if it is an even number."
   ]
  },
  {
   "cell_type": "code",
   "execution_count": 1,
   "metadata": {},
   "outputs": [
    {
     "name": "stdout",
     "output_type": "stream",
     "text": [
      "1\n",
      "5\n",
      "7\n",
      "89\n",
      "46\n",
      "23\n",
      "78\n",
      "1\n",
      "6\n",
      "44\n"
     ]
    }
   ],
   "source": [
    "# create empty list\n",
    "even = []\n",
    "\n",
    "# Accept 10 numbers from user, one at a time\n",
    "for i in range(10):\n",
    "    num = int(input())\n",
    "    #append to list if even \n",
    "    if num % 2 == 0:\n",
    "        even.append(num)\n"
   ]
  },
  {
   "cell_type": "code",
   "execution_count": 2,
   "metadata": {},
   "outputs": [
    {
     "data": {
      "text/plain": [
       "[46, 78, 6, 44]"
      ]
     },
     "execution_count": 2,
     "metadata": {},
     "output_type": "execute_result"
    }
   ],
   "source": [
    "even"
   ]
  },
  {
   "cell_type": "markdown",
   "metadata": {},
   "source": [
    "**Q2**: List comprehension "
   ]
  },
  {
   "cell_type": "markdown",
   "metadata": {},
   "source": [
    "# List Comprehension \n",
    "\n",
    "List comprehensions provide a concise way of creating new lists. The basic structure of a list comprehension is: <br>\n",
    " <p style = 'text-align:center;'> `new_list = [expression for member in iterable]` <br>\n",
    " As seen above a list comprehension consists of brackets containing a expression followed by a `for` clause, then zero or more `for` or `if` clauses.\n",
    " 1. **expression** : is the member itself, a fucntion call or any other valid expression that returns a value.\n",
    " 2. **member** : is a object or value in the list or iterable. \n",
    " 3. **iterable** : is a list, set, sequence, generator or any other object that can return a its elements one at a time. \n",
    " \n",
    " Let's take a example to understand this better. \n",
    " If we want to create a list containing the squares of the first 10 natural numbers, we can write the code like:\n",
    " ```python \n",
    "    >>>squares = []\n",
    "    >>>for i in range(1,11):\n",
    "    >>>    squares.append(i * i) \n",
    "    >>> squares\n",
    "    [1, 4, 9, 16, 25, 36, 49, 64, 81, 100]\n",
    " ```\n",
    " This can be equivalently written as:\n",
    " ```python \n",
    "    >>>squares = [i * i for i in range(1,11)]\n",
    " ```\n",
    "which is more concise and readable.<br>\n",
    "In the above example `i * i` is the __expression__, i is the **member** and the `range` function is the **iterable** (sequence). <br>\n",
    "### Using Conditional logic\n",
    "The most common way to add conditional logic to a list comprehension is to add a conditional statement at the end of the expression. <br>\n",
    "    ```new_list = [expression for member in iterable (if conditional)]```<br>\n",
    "An example of this would be, to filter out only the even squares from the ```squares``` list we created in the previous example. <br>\n",
    "    ```python \n",
    "    >>>even_squares = [num for num in squares if num % 2 == 0]\n",
    "    >>>even_squares\n",
    "    [4, 16, 36, 64, 100]\n",
    "    ```\n",
    "### When not to use list comprehesions\n",
    "    List comprehensions are useful and can help you write elegant code that’s easy to read and debug, but they’re not the right choice for all circumstances. They might make your code run more slowly or use more memory. If your code is less performant or harder to understand, then it’s probably better to choose an alternative.\n",
    " \n",
    "References: 1. https://realpython.com/list-comprehension-python/\n",
    "            2. https://docs.python.org/3/tutorial/datastructures.html"
   ]
  },
  {
   "cell_type": "markdown",
   "metadata": {},
   "source": [
    "**Q3**: Given a number **n**, generate a dictionary **d** which contains (i:i*i). Where, i goes from 1 to n (both included)."
   ]
  },
  {
   "cell_type": "code",
   "execution_count": 4,
   "metadata": {},
   "outputs": [
    {
     "name": "stdout",
     "output_type": "stream",
     "text": [
      "8\n",
      "{1: 1, 2: 4, 3: 9, 4: 16, 5: 25, 6: 36, 7: 49, 8: 64}\n"
     ]
    }
   ],
   "source": [
    "n = int(input())\n",
    "d = {i:i**2 for i in range(1,n+1)}\n",
    "print(d)"
   ]
  },
  {
   "cell_type": "markdown",
   "metadata": {},
   "source": [
    "**Q4**: Robot Movements"
   ]
  },
  {
   "cell_type": "code",
   "execution_count": 18,
   "metadata": {},
   "outputs": [
    {
     "name": "stdout",
     "output_type": "stream",
     "text": [
      "4\n",
      "UP 5\n",
      "DOWN 3\n",
      "LEFT 3\n",
      "RIGHT 2\n",
      "2\n"
     ]
    }
   ],
   "source": [
    "from math import sqrt\n",
    "\n",
    "#define functions for movements\n",
    "def move(direction,steps):\n",
    "    #initialise variable to hold updated coord values\n",
    "    x = 0 \n",
    "    y = 0\n",
    "    if direction == 'UP':\n",
    "        y += steps\n",
    "    elif direction == 'RIGHT':\n",
    "        x += steps\n",
    "    elif direction == 'DOWN':\n",
    "        y -= steps\n",
    "    elif direction == 'LEFT':\n",
    "        x -= steps\n",
    "    else:\n",
    "        print('Invalid direction')\n",
    "    return x,y\n",
    "        \n",
    "# number of directions \n",
    "n = int(input())\n",
    "\n",
    "#starting co-ordinates\n",
    "x_start = 0\n",
    "y_start = 0\n",
    "\n",
    "\n",
    "# get directions and steps\n",
    "for i in range(n):\n",
    "    command = input().split()\n",
    "    direction = command[0].upper()\n",
    "    steps = int(command[1])\n",
    "    \n",
    "    #call move function\n",
    "    res = move(direction,steps)\n",
    "\n",
    "#final position of the robot\n",
    "x_new,y_new = res\n",
    "\n",
    "# To calculate distance between original position \n",
    "# and current position of the robot \n",
    "\n",
    "#using the distance formula, distance = sqrt((Xa-Xb)^2 + (Ya-Yb)^2) \n",
    "diff_x = x_start - x_new\n",
    "diff_y = y_start - y_new\n",
    "distance = sqrt(diff_x ** 2 + diff_y ** 2)\n",
    "print(round(distance))"
   ]
  },
  {
   "cell_type": "code",
   "execution_count": null,
   "metadata": {},
   "outputs": [],
   "source": []
  },
  {
   "cell_type": "code",
   "execution_count": null,
   "metadata": {},
   "outputs": [],
   "source": []
  },
  {
   "cell_type": "code",
   "execution_count": null,
   "metadata": {},
   "outputs": [],
   "source": []
  }
 ],
 "metadata": {
  "kernelspec": {
   "display_name": "Python 3",
   "language": "python",
   "name": "python3"
  },
  "language_info": {
   "codemirror_mode": {
    "name": "ipython",
    "version": 3
   },
   "file_extension": ".py",
   "mimetype": "text/x-python",
   "name": "python",
   "nbconvert_exporter": "python",
   "pygments_lexer": "ipython3",
   "version": "3.8.3"
  }
 },
 "nbformat": 4,
 "nbformat_minor": 4
}
