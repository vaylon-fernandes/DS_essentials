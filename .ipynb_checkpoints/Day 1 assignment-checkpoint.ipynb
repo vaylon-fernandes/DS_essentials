{
 "cells": [
  {
   "cell_type": "markdown",
   "metadata": {},
   "source": [
    "**Q1**: Given the following jumbled word, OBANWRI guess the correct English word.<br>\n",
    "**Ans**: (B) RAINBOW"
   ]
  },
  {
   "cell_type": "markdown",
   "metadata": {},
   "source": [
    "**Q2**: To write a program to program to print \"LETS UPGRADE\""
   ]
  },
  {
   "cell_type": "code",
   "execution_count": 1,
   "metadata": {},
   "outputs": [
    {
     "name": "stdout",
     "output_type": "stream",
     "text": [
      "LETS UPGRADE\n"
     ]
    }
   ],
   "source": [
    "#Soln\n",
    "st = 'lets upgrade'.upper()\n",
    "print(st)"
   ]
  },
  {
   "cell_type": "markdown",
   "metadata": {},
   "source": [
    "**Q3**: Profit,loss or Neither"
   ]
  },
  {
   "cell_type": "code",
   "execution_count": 5,
   "metadata": {},
   "outputs": [
    {
     "name": "stdout",
     "output_type": "stream",
     "text": [
      "20 \n",
      "30\n",
      "Profit\n"
     ]
    }
   ],
   "source": [
    "#To compare cost price and selling price and print whether transaction was a Profit,Loss or Neither\n",
    "cost_price = int(input())\n",
    "selling_price = int(input())\n",
    "\n",
    "#check if profit,loss or neither\n",
    "\n",
    "if cost_price < selling_price:\n",
    "    print('Profit')\n",
    "elif cost_price > selling_price:\n",
    "    print('Loss')\n",
    "else:\n",
    "    print('Neither')"
   ]
  },
  {
   "cell_type": "markdown",
   "metadata": {},
   "source": [
    "**Q4:** Convert Euros to Rupees"
   ]
  },
  {
   "cell_type": "code",
   "execution_count": 10,
   "metadata": {},
   "outputs": [
    {
     "name": "stdout",
     "output_type": "stream",
     "text": [
      "20\n",
      "1600\n"
     ]
    }
   ],
   "source": [
    "#Assuming 1 Euro = Rs. 80\n",
    "\n",
    "#currency in Euros\n",
    "euros = int(input())\n",
    "\n",
    "#currency in rupees\n",
    "rupees = euros*80\n",
    "\n",
    "print(rupees)"
   ]
  },
  {
   "cell_type": "code",
   "execution_count": null,
   "metadata": {},
   "outputs": [],
   "source": []
  }
 ],
 "metadata": {
  "kernelspec": {
   "display_name": "Python 3",
   "language": "python",
   "name": "python3"
  },
  "language_info": {
   "codemirror_mode": {
    "name": "ipython",
    "version": 3
   },
   "file_extension": ".py",
   "mimetype": "text/x-python",
   "name": "python",
   "nbconvert_exporter": "python",
   "pygments_lexer": "ipython3",
   "version": "3.8.3"
  }
 },
 "nbformat": 4,
 "nbformat_minor": 4
}
